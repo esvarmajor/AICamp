{
 "cells": [
  {
   "cell_type": "code",
   "execution_count": 14,
   "metadata": {},
   "outputs": [],
   "source": [
    "import tensorflow as tf\n",
    "import matplotlib.pyplot as plt\n",
    "%matplotlib inline\n",
    "\n",
    "# TODO: Create placeholders\n",
    "tf.reset_default_graph()\n",
    "\n",
    "input_data = tf.placeholder(dtype=tf.float32, shape=None)\n",
    "double_operation = input_data*2\n",
    "\n",
    "# TODO: Create variables\n",
    "tf.reset_default_graph()\n",
    " \n",
    "input_data = tf.placeholder(dtype=tf.float32, shape=None)\n",
    "output_data = tf.placeholder(dtype=tf.float32, shape=None)\n",
    " \n",
    "slope = tf.Variable(0.5, dtype=tf.float32)\n",
    "intercept = tf.Variable(0.1, dtype=tf.float32)\n",
    " \n",
    "model_operation = (slope * input_data) + intercept\n",
    "\n",
    "error = model_operation - output_data\n",
    "squared_error = tf.square(error)\n",
    "loss = tf.reduce_mean(squared_error)\n",
    "\n",
    "optimizer = tf.train.GradientDescentOptimizer(learning_rate=.005)\n",
    "train = optimizer.minimize(loss)"
   ]
  },
  {
   "cell_type": "code",
   "execution_count": 15,
   "metadata": {},
   "outputs": [
    {
     "name": "stdout",
     "output_type": "stream",
     "text": [
      "[2.7200003, 0.64000005]\n[2.0061324, 0.9740229]\n[2.0003173, 0.9986558]\n[2.0000165, 0.9999305]\n[2.000001, 0.9999965]\n"
     ]
    },
    {
     "name": "stdout",
     "output_type": "stream",
     "text": [
      "[2.0000005, 0.99999845]\n[2.0000005, 0.99999845]\n[2.0000005, 0.99999845]\n[2.0000005, 0.99999845]\n[2.0000005, 0.99999845]\n[2.0000005, 0.99999845]\n"
     ]
    },
    {
     "name": "stdout",
     "output_type": "stream",
     "text": [
      "[2.0000005, 0.99999845]\n[2.0000005, 0.99999845]\n[2.0000005, 0.99999845]\n[2.0000005, 0.99999845]\n[2.0000005, 0.99999845]\n[2.0000005, 0.99999845]\n"
     ]
    },
    {
     "name": "stdout",
     "output_type": "stream",
     "text": [
      "[2.0000005, 0.99999845]\n[2.0000005, 0.99999845]\n[2.0000005, 0.99999845]\n6.3542823e-13\n"
     ]
    },
    {
     "data": {
      "image/png": "[encoded data removed]",
      "text/plain": [
       "<Figure size 432x288 with 1 Axes>"
      ]
     },
     "metadata": {},
     "output_type": "display_data"
    }
   ],
   "source": [
    "\n",
    "# TODO: Run a session\n",
    " \n",
    "init = tf.global_variables_initializer()\n",
    "\n",
    "x_values = [0, 1, 2, 3, 4, 5, 6]\n",
    "y_values = [1, 3, 5, 7, 9, 11, 13]\n",
    " \n",
    "with tf.Session() as sess:\n",
    "    sess.run(init)\n",
    "    for i in range(2000):\n",
    "        sess.run(train, feed_dict={input_data:x_values, output_data:y_values})\n",
    "        if i % 100 == 0:\n",
    "            print(sess.run([slope, intercept]))\n",
    "            plt.plot(x_values, sess.run(model_operation, feed_dict={input_data:x_values}))\n",
    "     \n",
    "    print(sess.run(loss, feed_dict={input_data:x_values, output_data:y_values}))\n",
    "    plt.plot(x_values, y_values, 'ro', 'Training Data')\n",
    "    plt.plot(x_values, sess.run(model_operation, feed_dict={input_data:x_values}))\n",
    "     \n",
    "    plt.show()\n",
    "    "
   ]
  },
  {
   "cell_type": "code",
   "execution_count": 22,
   "metadata": {},
   "outputs": [],
   "source": []
  },
  {
   "cell_type": "code",
   "execution_count": 22,
   "metadata": {},
   "outputs": [],
   "source": []
  },
  {
   "cell_type": "code",
   "execution_count": 22,
   "metadata": {},
   "outputs": [],
   "source": []
  },
  {
   "cell_type": "code",
   "execution_count": 22,
   "metadata": {},
   "outputs": [],
   "source": []
  },
  {
   "cell_type": "code",
   "execution_count": 22,
   "metadata": {},
   "outputs": [],
   "source": []
  },
  {
   "cell_type": "code",
   "execution_count": null,
   "metadata": {},
   "outputs": [],
   "source": []
  }
 ],
 "metadata": {
  "kernelspec": {
   "display_name": "Python 2",
   "language": "python",
   "name": "python2"
  },
  "language_info": {
   "codemirror_mode": {
    "name": "ipython",
    "version": 2
   },
   "file_extension": ".py",
   "mimetype": "text/x-python",
   "name": "python",
   "nbconvert_exporter": "python",
   "pygments_lexer": "ipython2",
   "version": "2.7.6"
  }
 },
 "nbformat": 4,
 "nbformat_minor": 0
}
